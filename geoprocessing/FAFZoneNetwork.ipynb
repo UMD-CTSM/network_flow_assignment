{
 "cells": [
  {
   "cell_type": "code",
   "execution_count": 2,
   "metadata": {},
   "outputs": [],
   "source": [
    "line_layer_name = \"North_American_Rail_Network_Lines\"\n",
    "line_feature_class = r\"C:\\Users\\natha\\Documents\\ArcGIS\\Projects\\ClimateRailnet\\Data\\NTAD_North_American_Rail_Network_Lines_-2671630235023475291\\North_American_Rail_Network_Lines.shp\"\n",
    "node_layer_name = \"North_American_Rail_Network_Nodes\"\n",
    "faf_layer_name = \"2017_CFS_Metro_Areas_with_FAF\"\n",
    "join_layer_name = \"North_American_Rail_Network_Nodes_with_FAF\""
   ]
  },
  {
   "cell_type": "code",
   "execution_count": 4,
   "metadata": {},
   "outputs": [],
   "source": [
    "import networkx as nx\n",
    "\n",
    "import os\n",
    "arcpy.env.workspace = arcpy.env.workspace.replace(os.sep, '/')\n",
    "os.chdir(os.path.join(arcpy.env.workspace, '../'))"
   ]
  },
  {
   "cell_type": "markdown",
   "metadata": {},
   "source": [
    "# Create Graph"
   ]
  },
  {
   "cell_type": "code",
   "execution_count": null,
   "metadata": {},
   "outputs": [],
   "source": [
    "arcpy.management.Delete(join_layer_name)\n",
    "arcpy.analysis.SpatialJoin(node_layer_name, faf_layer_name, join_layer_name, \"JOIN_ONE_TO_MANY\", \"KEEP_COMMON\", match_option=\"INTERSECT\")"
   ]
  },
  {
   "cell_type": "code",
   "execution_count": 34,
   "metadata": {},
   "outputs": [
    {
     "data": {
      "text/html": [
       "<div class='gpresult'><h2>Messages</h2><div id='messages'>Start Time: Tuesday, September 10, 2024 12:13:45 AM<br>Succeeded at Tuesday, September 10, 2024 12:13:45 AM (Elapsed Time: 0.61 seconds)<br></div><div id = 'default' /></div></div>"
      ],
      "text/plain": [
       "<Result 'North_American_Rail_Network_Lines'>"
      ]
     },
     "execution_count": 34,
     "metadata": {},
     "output_type": "execute_result"
    }
   ],
   "source": [
    "arcpy.management.JoinField(line_layer_name, \"FRFRANODE\", join_layer_name, \"FRANODEID\", ['FAF_Zone'], index_join_fields=\"NEW_INDEXES\")\n",
    "arcpy.management.AlterField(line_layer_name, 'FAF_Zone', 'FR_FAF_Zone', 'FR_FAF_Zone')\n",
    "arcpy.management.JoinField(line_layer_name, \"TOFRANODE\", join_layer_name, \"FRANODEID\", ['FAF_Zone'], index_join_fields=\"NEW_INDEXES\")\n",
    "arcpy.management.AlterField(line_layer_name, 'FAF_Zone', 'TO_FAF_Zone', 'TO_FAF_Zone')"
   ]
  },
  {
   "cell_type": "code",
   "execution_count": 59,
   "metadata": {},
   "outputs": [],
   "source": [
    "railnet = nx.Graph()"
   ]
  },
  {
   "cell_type": "code",
   "execution_count": 60,
   "metadata": {},
   "outputs": [],
   "source": [
    "node_list = []\n",
    "with arcpy.da.SearchCursor(faf_layer_name, ['FAF_Zone', 'FAF_Zone_1', 'INTPTLAT', 'INTPTLON'] ) as cursor:\n",
    "    for faf_id, name, lat, lon in cursor:\n",
    "        node_list.append((int(faf_id), {'faf_id': int(faf_id), 'name': name, 'lat': float(lat), 'lon': float(lon)}))\n",
    "railnet.add_nodes_from(node_list)    "
   ]
  },
  {
   "cell_type": "code",
   "execution_count": 63,
   "metadata": {},
   "outputs": [],
   "source": [
    "node_fields = [f.name for f in arcpy.ListFields(line_layer_name)]\n",
    "links = {}\n",
    "with arcpy.da.SearchCursor(\"North_American_Rail_Network_Lines\", ['FR_FAF_Zone', 'TO_FAF_Zone'], 'FR_FAF_Zone <> TO_FAF_Zone') as cursor:\n",
    "    for fr, to in cursor:\n",
    "        pair = (int(fr), int(to))\n",
    "        if pair not in links:\n",
    "            links[pair] = 0\n",
    "        links[pair] += 1\n",
    "#         links[(int(fr), int(to))] = \n",
    "\n",
    "\n",
    "railnet.add_weighted_edges_from([(fr, to, links[(fr, to)]) for fr,to in links])"
   ]
  },
  {
   "cell_type": "code",
   "execution_count": 65,
   "metadata": {},
   "outputs": [],
   "source": [
    "nx.write_gml(railnet,'Data/faf_railnet.gml')"
   ]
  },
  {
   "cell_type": "markdown",
   "metadata": {},
   "source": [
    "# Load onto map"
   ]
  },
  {
   "cell_type": "code",
   "execution_count": 3,
   "metadata": {},
   "outputs": [],
   "source": [
    "railnet = nx.read_gml('Data/faf_railnet.gml')"
   ]
  },
  {
   "cell_type": "code",
   "execution_count": 5,
   "metadata": {},
   "outputs": [],
   "source": [
    "sr = arcpy.Describe(faf_layer_name).spatialReference\n",
    "arcpy.env.outputCoordinateSystem = sr"
   ]
  },
  {
   "cell_type": "code",
   "execution_count": 6,
   "metadata": {},
   "outputs": [
    {
     "data": {
      "text/html": [
       "<style>table td#td0  {font-weight: bold}</style><table class=\"notebook\"><colgroup><col style=\"width:45%\"></col><col style=\"width:55%\"></col></colgroup><tr><td id = \"td0\" title=\"name (Geographic Coordinate System)\">name (Geographic Coordinate System)</td><td title=\"GCS_North_American_1983\">GCS_North_American_1983</td></tr><tr><td id = \"td0\" title=\"factoryCode (WKID)\">factoryCode (WKID)</td><td title=\"4269\">4269</td></tr><tr><td id = \"td0\" title=\"angularUnitName (Angular Unit)\">angularUnitName (Angular Unit)</td><td title=\"Degree\">Degree</td></tr><tr><td id = \"td0\" title=\"datumName (Datum)\">datumName (Datum)</td><td title=\"D_North_American_1983\">D_North_American_1983</td></tr></table>"
      ],
      "text/plain": [
       "<geoprocessing spatial reference object object at 0x00000180B1AA6270>"
      ]
     },
     "execution_count": 6,
     "metadata": {},
     "output_type": "execute_result"
    }
   ],
   "source": [
    "sr"
   ]
  },
  {
   "cell_type": "code",
   "execution_count": 14,
   "metadata": {},
   "outputs": [
    {
     "data": {
      "text/html": [
       "<div class='gpresult'><h2>Messages</h2><div id='messages'>Start Time: Thursday, September 19, 2024 9:39:28 PM<br>Succeeded at Thursday, September 19, 2024 9:39:28 PM (Elapsed Time: 0.06 seconds)<br></div><div id = 'default' /></div></div>"
      ],
      "text/plain": [
       "<Result 'true'>"
      ]
     },
     "execution_count": 14,
     "metadata": {},
     "output_type": "execute_result"
    }
   ],
   "source": [
    "faf_nodes_fc = f'{arcpy.env.workspace}/faf_nodes'\n",
    "faf_edges_fc = f'{arcpy.env.workspace}/faf_edges'\n",
    "arcpy.management.Delete('faf_nodes')\n",
    "arcpy.management.Delete('faf_edges')"
   ]
  },
  {
   "cell_type": "code",
   "execution_count": 15,
   "metadata": {},
   "outputs": [
    {
     "data": {
      "text/html": [
       "<div class='gpresult'><h2>Messages</h2><div id='messages'>Start Time: Thursday, September 19, 2024 9:39:36 PM<br>Succeeded at Thursday, September 19, 2024 9:39:38 PM (Elapsed Time: 1.43 seconds)<br></div><div id = 'default' /></div></div>"
      ],
      "text/plain": [
       "<Result 'C:\\\\Users\\\\natha\\\\Documents\\\\ArcGIS\\\\Projects\\\\ClimateRailnet\\\\MyProject.gdb\\\\faf_edges'>"
      ]
     },
     "execution_count": 15,
     "metadata": {},
     "output_type": "execute_result"
    }
   ],
   "source": [
    "arcpy.conversion.ExportFeatures('Data/faf_network_nodes.shp', faf_nodes_fc)\n",
    "arcpy.conversion.ExportFeatures('Data/faf_network_edges.shp', faf_edges_fc)"
   ]
  },
  {
   "cell_type": "code",
   "execution_count": 72,
   "metadata": {},
   "outputs": [
    {
     "name": "stdout",
     "output_type": "stream",
     "text": [
      "361\n",
      "131\n",
      "481\n",
      "241\n",
      "221\n",
      "482\n",
      "11\n",
      "251\n",
      "331\n",
      "441\n",
      "362\n",
      "451\n",
      "371\n",
      "171\n",
      "181\n",
      "211\n",
      "391\n",
      "392\n",
      "393\n",
      "483\n",
      "484\n",
      "394\n",
      "81\n",
      "261\n",
      "485\n",
      "183\n",
      "65\n",
      "262\n",
      "372\n",
      "452\n",
      "91\n",
      "486\n",
      "182\n",
      "121\n",
      "201\n",
      "291\n",
      "473\n",
      "222\n",
      "487\n",
      "321\n",
      "61\n",
      "212\n",
      "471\n",
      "122\n",
      "551\n",
      "271\n",
      "12\n",
      "472\n",
      "223\n",
      "92\n",
      "341\n",
      "363\n",
      "423\n",
      "401\n",
      "311\n",
      "123\n",
      "101\n",
      "342\n",
      "421\n",
      "41\n",
      "422\n",
      "411\n",
      "532\n",
      "373\n",
      "19\n",
      "20\n",
      "49\n",
      "50\n",
      "69\n",
      "89\n",
      "99\n",
      "109\n",
      "129\n",
      "139\n",
      "159\n",
      "160\n",
      "179\n",
      "189\n",
      "190\n",
      "209\n",
      "219\n",
      "229\n",
      "230\n",
      "249\n",
      "259\n",
      "269\n",
      "279\n",
      "280\n",
      "299\n",
      "300\n",
      "319\n",
      "329\n",
      "339\n",
      "350\n",
      "369\n",
      "379\n",
      "380\n",
      "399\n",
      "409\n",
      "419\n",
      "429\n",
      "459\n",
      "460\n",
      "479\n",
      "489\n",
      "499\n",
      "500\n",
      "519\n",
      "539\n",
      "540\n",
      "559\n",
      "560\n",
      "511\n",
      "364\n",
      "62\n",
      "491\n",
      "488\n",
      "63\n",
      "64\n",
      "132\n",
      "531\n",
      "172\n",
      "292\n",
      "124\n",
      "42\n",
      "402\n",
      "151\n",
      "512\n",
      "111\n",
      "242\n",
      "513\n",
      "202\n"
     ]
    }
   ],
   "source": []
  }
 ],
 "metadata": {
  "kernelspec": {
   "display_name": "ArcGISPro",
   "language": "Python",
   "name": "python3"
  },
  "language_info": {
   "file_extension": ".py",
   "name": "python",
   "version": "3"
  }
 },
 "nbformat": 4,
 "nbformat_minor": 2
}
