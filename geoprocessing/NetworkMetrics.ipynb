{
 "cells": [
  {
   "cell_type": "code",
   "execution_count": 28,
   "metadata": {},
   "outputs": [],
   "source": [
    "import networkx as nx\n",
    "import os\n",
    "os.chdir(os.path.join(arcpy.env.workspace, '../'))"
   ]
  },
  {
   "cell_type": "code",
   "execution_count": null,
   "metadata": {},
   "outputs": [],
   "source": [
    "railnet = nx.Graph()"
   ]
  },
  {
   "cell_type": "code",
   "execution_count": null,
   "metadata": {},
   "outputs": [],
   "source": [
    "node_fields = [f.name for f in arcpy.ListFields(\"North_American_Rail_Network_Nodes\")]\n",
    "node_list = []\n",
    "with arcpy.da.SearchCursor(\"North_American_Rail_Network_Nodes\", node_fields) as cursor:\n",
    "    for field_values in cursor:\n",
    "        node_attrs = { node_fields[i]:field_values[i] for i in range(len(field_values)) }\n",
    "        node_list.append((node_attrs['FRANODEID'], node_attrs))"
   ]
  },
  {
   "cell_type": "code",
   "execution_count": 14,
   "metadata": {},
   "outputs": [],
   "source": [
    "railnet.add_nodes_from(node_list)"
   ]
  },
  {
   "cell_type": "code",
   "execution_count": 20,
   "metadata": {},
   "outputs": [],
   "source": [
    "def layer_to_list(layerName : str):\n",
    "    fields = [f.name for f in arcpy.ListFields(layerName)]\n",
    "    layer_list = []\n",
    "    with arcpy.da.SearchCursor(layerName, fields) as cursor:\n",
    "        for field_values in cursor:\n",
    "            layer_list.append({ fields[i]:field_values[i] for i in range(len(field_values)) })\n",
    "    return layer_list"
   ]
  },
  {
   "cell_type": "code",
   "execution_count": 24,
   "metadata": {},
   "outputs": [],
   "source": [
    "edge_list = [(l['FRFRANODE'], l['TOFRANODE'], l) for l in layer_to_list('North_American_Rail_Network_Lines')]"
   ]
  },
  {
   "cell_type": "code",
   "execution_count": 25,
   "metadata": {},
   "outputs": [],
   "source": [
    "railnet.add_edges_from(edge_list)"
   ]
  },
  {
   "cell_type": "code",
   "execution_count": 29,
   "metadata": {},
   "outputs": [],
   "source": [
    "nx.write_gml(railnet,'Data/railnet.gml')"
   ]
  },
  {
   "cell_type": "code",
   "execution_count": null,
   "metadata": {},
   "outputs": [],
   "source": [
    "all_pairs = nx.all_pairs_node_connectivity(railnet)"
   ]
  }
 ],
 "metadata": {
  "kernelspec": {
   "display_name": "ArcGISPro",
   "language": "Python",
   "name": "python3"
  },
  "language_info": {
   "file_extension": ".py",
   "name": "python",
   "version": "3"
  }
 },
 "nbformat": 4,
 "nbformat_minor": 2
}
