{
 "cells": [
  {
   "cell_type": "code",
   "execution_count": 1,
   "metadata": {},
   "outputs": [],
   "source": [
    "import networkx as nx\n",
    "import os\n",
    "import geopandas as gpd\n",
    "import pandas as pd\n",
    "from pathlib import Path\n",
    "from shapely import LineString\n",
    "import numpy as np\n",
    "import requests\n",
    "%matplotlib inline\n",
    "\n",
    "BASE_DIR = (Path.cwd()).parent.parent"
   ]
  },
  {
   "cell_type": "code",
   "execution_count": 2,
   "metadata": {},
   "outputs": [],
   "source": [
    "naRailNodesDf = gpd.read_file( BASE_DIR / \"inputs/NTAD_North_American_Rail_Network_Nodes\")\n",
    "naRailLinesDf = gpd.read_file( BASE_DIR / \"inputs/NTAD_North_American_Rail_Network_Lines\")\n",
    "fafZonesDf = gpd.read_file( BASE_DIR / \"inputs/2017_CFS_Metro_Areas_with_FAF\").to_crs(3857)"
   ]
  },
  {
   "cell_type": "markdown",
   "metadata": {},
   "source": [
    "# Create Graph"
   ]
  },
  {
   "cell_type": "code",
   "execution_count": null,
   "metadata": {},
   "outputs": [],
   "source": [
    "naRailNodesWithFafZonesDf = naRailNodesDf.sjoin(fafZonesDf, how='left', predicate=\"within\")\n",
    "\n",
    "# .to_crs(3857)\n",
    "fafZoneNodesDf = naRailNodesWithFafZonesDf.dissolve(['FAF_Zone']).reset_index()\n",
    "fafZoneNodesDf.geometry = fafZoneNodesDf.centroid\n",
    "fafZoneNodesDf.head()"
   ]
  },
  {
   "cell_type": "code",
   "execution_count": null,
   "metadata": {},
   "outputs": [],
   "source": [
    "naRailLinesWithFafZonesDf = naRailLinesDf.join(naRailNodesWithFafZonesDf.set_index('FRANODEID').add_suffix('_fr'), on='FRFRANODE')\n",
    "naRailLinesWithFafZonesDf = naRailLinesWithFafZonesDf.join(naRailNodesWithFafZonesDf.set_index('FRANODEID').add_suffix('_to'), on='TOFRANODE')\n",
    "\n",
    "naRailLinesWithFafZonesDf = naRailLinesWithFafZonesDf[naRailLinesWithFafZonesDf.columns[\n",
    "  ~(\n",
    "    naRailLinesWithFafZonesDf.columns.str.endswith('_fr')\n",
    "    | naRailLinesWithFafZonesDf.columns.str.endswith('_to')\n",
    "  )\n",
    "].union(['FAF_Zone_fr', 'FAF_Zone_to'])]\n",
    "\n",
    "naRailLinesWithFafZonesDf.head()"
   ]
  },
  {
   "cell_type": "code",
   "execution_count": null,
   "metadata": {},
   "outputs": [],
   "source": [
    "fafZoneLinksDf = naRailLinesWithFafZonesDf[naRailLinesWithFafZonesDf.FAF_Zone_fr != naRailLinesWithFafZonesDf.FAF_Zone_to].dropna(subset=['FAF_Zone_fr', 'FAF_Zone_to'])\n",
    "fafZoneLinksDf = fafZoneLinksDf.dissolve(by=['FAF_Zone_fr','FAF_Zone_to'])\n",
    "fafZoneLinksDf = fafZoneLinksDf.join(fafZoneNodesDf.set_index('FAF_Zone').add_suffix('_fr'), on='FAF_Zone_fr')\n",
    "fafZoneLinksDf = fafZoneLinksDf.join(fafZoneNodesDf.set_index('FAF_Zone').add_suffix('_to'), on='FAF_Zone_to')\n",
    "fafZoneLinksDf.geometry = fafZoneLinksDf.apply(lambda r:  LineString([\n",
    "    [r.geometry_fr.x, r.geometry_fr.y],\n",
    "    [r.geometry_to.x, r.geometry_to.y]\n",
    "]), axis=1)"
   ]
  },
  {
   "cell_type": "code",
   "execution_count": 6,
   "metadata": {},
   "outputs": [],
   "source": [
    "railnet = nx.Graph()"
   ]
  },
  {
   "cell_type": "code",
   "execution_count": 84,
   "metadata": {},
   "outputs": [],
   "source": [
    "aggNetworkNodesDf = pd.read_excel( BASE_DIR / 'inputs'/'AggregateNetwork.xlsx', sheet_name='Nodes').set_index('Node')\n",
    "aggNetworkNodesDf = gpd.GeoDataFrame(\n",
    "  aggNetworkNodesDf,\n",
    "  geometry=gpd.points_from_xy(aggNetworkNodesDf.Longitude, aggNetworkNodesDf.Latitude),\n",
    "  crs=\"EPSG:4326\"\n",
    ")\n",
    "\n",
    "\n",
    "aggNetworkLinksDf = pd.read_excel( BASE_DIR / 'inputs'/'AggregateNetwork.xlsx', sheet_name='Links')\n",
    "aggNetworkLinksDf = aggNetworkLinksDf.set_index('Start_Node').join(aggNetworkNodesDf.add_suffix('_fr'))\n",
    "aggNetworkLinksDf = aggNetworkLinksDf.set_index('End_Node').join(aggNetworkNodesDf.add_suffix('_to'))\n",
    "aggNetworkLinksDf = gpd.GeoDataFrame(\n",
    "  aggNetworkLinksDf,\n",
    "  geometry=aggNetworkLinksDf.apply(lambda r: LineString([\n",
    "    [r.geometry_fr.x,r.geometry_fr.y],\n",
    "    [r.geometry_to.x,r.geometry_to.y]\n",
    "  ]), axis=1),\n",
    "  crs=\"EPSG:4326\"\n",
    ")"
   ]
  },
  {
   "cell_type": "code",
   "execution_count": null,
   "metadata": {},
   "outputs": [],
   "source": [
    "node_list = []\n",
    "# with arcpy.da.SearchCursor(faf_layer_name, ['FAF_Zone', 'FAF_Zone_1', 'INTPTLAT', 'INTPTLON'] ) as cursor:\n",
    "#     for faf_id, name, lat, lon in cursor:\n",
    "#         node_list.append((int(faf_id), {'faf_id': int(faf_id), 'name': name, 'lat': float(lat), 'lon': float(lon)}))\n",
    "# railnet.add_nodes_from(node_list)\n",
    "# for r in naRailNodesWithFafZonesDf:\n",
    "#   print(r)\n",
    "# railnet.add_nodes_from"
   ]
  },
  {
   "cell_type": "code",
   "execution_count": 1,
   "metadata": {},
   "outputs": [],
   "source": [
    "import math\n",
    "\n",
    "# node_fields = [f.name for f in arcpy.ListFields(line_layer_name)]\n",
    "links = {}\n",
    "\n",
    "def add_to_links_dict(link):\n",
    "    fr = int(link.FAF_Zone_fr)\n",
    "    to = int(link.FAF_Zone_to)\n",
    "    if math.isnan(fr) or math.isnan(to): return\n",
    "    pair = (int(fr), int(to))\n",
    "    if pair not in links:\n",
    "        links[pair] = 0\n",
    "    links[pair] += 1\n",
    "    return link\n",
    "\n",
    "# naRailLinesWithFafZonesDf\n",
    "# railnet.add_weighted_edges_from([(fr, to, links[(fr, to)]) for fr,to in links])"
   ]
  },
  {
   "cell_type": "code",
   "execution_count": 65,
   "metadata": {},
   "outputs": [],
   "source": [
    "nx.write_gml(railnet,'Data/faf_railnet.gml')"
   ]
  },
  {
   "cell_type": "markdown",
   "metadata": {},
   "source": [
    "# Load onto map"
   ]
  },
  {
   "cell_type": "code",
   "execution_count": 3,
   "metadata": {},
   "outputs": [],
   "source": [
    "railnet = nx.read_gml('Data/faf_railnet.gml')"
   ]
  },
  {
   "cell_type": "code",
   "execution_count": 5,
   "metadata": {},
   "outputs": [],
   "source": [
    "sr = arcpy.Describe(faf_layer_name).spatialReference\n",
    "arcpy.env.outputCoordinateSystem = sr"
   ]
  },
  {
   "cell_type": "code",
   "execution_count": null,
   "metadata": {},
   "outputs": [],
   "source": [
    "sr"
   ]
  },
  {
   "cell_type": "code",
   "execution_count": null,
   "metadata": {},
   "outputs": [],
   "source": [
    "faf_nodes_fc = f'{arcpy.env.workspace}/faf_nodes'\n",
    "faf_edges_fc = f'{arcpy.env.workspace}/faf_edges'\n",
    "arcpy.management.Delete('faf_nodes')\n",
    "arcpy.management.Delete('faf_edges')"
   ]
  },
  {
   "cell_type": "code",
   "execution_count": null,
   "metadata": {},
   "outputs": [],
   "source": [
    "arcpy.conversion.ExportFeatures('Data/faf_network_nodes.shp', faf_nodes_fc)\n",
    "arcpy.conversion.ExportFeatures('Data/faf_network_edges.shp', faf_edges_fc)"
   ]
  },
  {
   "cell_type": "code",
   "execution_count": null,
   "metadata": {},
   "outputs": [],
   "source": []
  }
 ],
 "metadata": {
  "kernelspec": {
   "display_name": "network_flow_assignment",
   "language": "python",
   "name": "python3"
  },
  "language_info": {
   "codemirror_mode": {
    "name": "ipython",
    "version": 3
   },
   "file_extension": ".py",
   "mimetype": "text/x-python",
   "name": "python",
   "nbconvert_exporter": "python",
   "pygments_lexer": "ipython3",
   "version": "3.12.6"
  }
 },
 "nbformat": 4,
 "nbformat_minor": 2
}
