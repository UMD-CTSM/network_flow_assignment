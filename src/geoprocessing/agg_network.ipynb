{
 "cells": [
  {
   "cell_type": "code",
   "execution_count": 32,
   "metadata": {},
   "outputs": [],
   "source": [
    "import geopandas as gpd\n",
    "import pandas as pd\n",
    "from pathlib import Path\n",
    "from __init__ import order_link_nodes\n",
    "from IPython.display import display\n",
    "\n",
    "BASE_DIR = Path.cwd().parent.parent"
   ]
  },
  {
   "cell_type": "code",
   "execution_count": 59,
   "metadata": {},
   "outputs": [
    {
     "name": "stderr",
     "output_type": "stream",
     "text": [
      "/tmp/ipykernel_678339/1128695489.py:26: UserWarning: Column names longer than 10 characters will be truncated when saved to ESRI Shapefile.\n",
      "  nodeDf.to_file( agNetShpXl / 'agg_nodes.shp')\n",
      "/home/nathanczh/miniconda3/envs/network_flow_assignment/lib/python3.12/site-packages/pyogrio/raw.py:709: RuntimeWarning: Normalized/laundered field name: 'PopuWeights' to 'PopuWeight'\n",
      "  ogr_write(\n",
      "/tmp/ipykernel_678339/1128695489.py:27: UserWarning: Column names longer than 10 characters will be truncated when saved to ESRI Shapefile.\n",
      "  linkDf.to_file( agNetShpXl / 'agg_links.shp')\n",
      "/home/nathanczh/miniconda3/envs/network_flow_assignment/lib/python3.12/site-packages/pyogrio/raw.py:698: UserWarning: 'crs' was not provided.  The output dataset will not have projection information defined and may not be usable in other systems.\n",
      "  warnings.warn(\n",
      "/home/nathanczh/miniconda3/envs/network_flow_assignment/lib/python3.12/site-packages/pyogrio/raw.py:709: RuntimeWarning: Normalized/laundered field name: 'Physical Lengthweight' to 'Physical L'\n",
      "  ogr_write(\n",
      "/home/nathanczh/miniconda3/envs/network_flow_assignment/lib/python3.12/site-packages/pyogrio/raw.py:709: RuntimeWarning: Normalized/laundered field name: 'PhysicalLength_km' to 'PhysicalLe'\n",
      "  ogr_write(\n"
     ]
    }
   ],
   "source": [
    "agNetXl = BASE_DIR / 'inputs/AggregateNetwork.xlsx'\n",
    "nodeDf = pd.read_excel(agNetXl, sheet_name=0)\n",
    "nodeDf = gpd.GeoDataFrame(nodeDf, geometry=gpd.points_from_xy(nodeDf['Longitude'], nodeDf['Latitude'], crs=\"EPSG:4326\")).set_index('Node')\n",
    "nodeDf = nodeDf.drop(columns=['Latitude', 'Longitude'])\n",
    "linkDf = pd.read_excel(agNetXl, sheet_name=1)\\\n",
    "  .astype({'Start_Node': int, 'End_Node': int})\\\n",
    "  .rename(columns={'Start_Node': 'Node_fr', 'End_Node': 'Node_to'})\n",
    "\n",
    "\n",
    "from shapely import LineString\n",
    "def createLines(linkDf : pd.DataFrame, COL, nodeDf : gpd.GeoDataFrame, FR='_fr', TO='_to'):\n",
    "  linkDf = linkDf.join(nodeDf.add_suffix(FR), on=COL + FR)\n",
    "  linkDf = linkDf.join(nodeDf.add_suffix(TO), on=COL + TO)\n",
    "  return linkDf.apply(lambda r:  LineString([\n",
    "      [r['geometry' + FR].x, r['geometry' + FR].y],\n",
    "      [r['geometry' + TO].x, r['geometry' + TO].y]\n",
    "  ]), axis=1)\n",
    "  \n",
    "\n",
    "\n",
    "linkDf = gpd.GeoDataFrame(linkDf, geometry=createLines(linkDf, 'Node', nodeDf))\n",
    "linkDf = order_link_nodes(linkDf, 'Node_fr', 'Node_to').set_index(['Node_fr', 'Node_to']).sort_index()\n",
    "\n",
    "agNetShpXl = BASE_DIR / 'resources/shapefiles/agg_network'\n",
    "agNetShpXl.mkdir(parents=True, exist_ok=True)\n",
    "nodeDf.to_file( agNetShpXl / 'agg_nodes.shp')\n",
    "linkDf.to_file( agNetShpXl / 'agg_links.shp')"
   ]
  }
 ],
 "metadata": {
  "kernelspec": {
   "display_name": "network_flow_assignment",
   "language": "python",
   "name": "python3"
  },
  "language_info": {
   "codemirror_mode": {
    "name": "ipython",
    "version": 3
   },
   "file_extension": ".py",
   "mimetype": "text/x-python",
   "name": "python",
   "nbconvert_exporter": "python",
   "pygments_lexer": "ipython3",
   "version": "3.12.6"
  }
 },
 "nbformat": 4,
 "nbformat_minor": 2
}
