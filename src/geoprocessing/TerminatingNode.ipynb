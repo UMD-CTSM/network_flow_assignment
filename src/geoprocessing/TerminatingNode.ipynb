{
 "cells": [
  {
   "cell_type": "code",
   "execution_count": 2,
   "metadata": {},
   "outputs": [],
   "source": [
    "import pandas as pd"
   ]
  },
  {
   "cell_type": "code",
   "execution_count": 3,
   "metadata": {},
   "outputs": [],
   "source": [
    "links = {'from':[], 'to':[]}\n",
    "with arcpy.da.SearchCursor(\"North_American_Rail_Network_Lines\", [\"FRFRANODE\", \"TOFRANODE\"]) as cursor:\n",
    "    for fr, to in cursor:\n",
    "        links['from'].append(fr)\n",
    "        links['to'].append(to)"
   ]
  },
  {
   "cell_type": "code",
   "execution_count": 4,
   "metadata": {},
   "outputs": [
    {
     "data": {
      "text/html": [
       "<div>\n",
       "<style scoped>\n",
       "    .dataframe tbody tr th:only-of-type {\n",
       "        vertical-align: middle;\n",
       "    }\n",
       "\n",
       "    .dataframe tbody tr th {\n",
       "        vertical-align: top;\n",
       "    }\n",
       "\n",
       "    .dataframe thead th {\n",
       "        text-align: right;\n",
       "    }\n",
       "</style>\n",
       "<table border=\"1\" class=\"dataframe\">\n",
       "  <thead>\n",
       "    <tr style=\"text-align: right;\">\n",
       "      <th></th>\n",
       "      <th>from</th>\n",
       "      <th>to</th>\n",
       "    </tr>\n",
       "  </thead>\n",
       "  <tbody>\n",
       "    <tr>\n",
       "      <th>0</th>\n",
       "      <td>348741</td>\n",
       "      <td>348746</td>\n",
       "    </tr>\n",
       "    <tr>\n",
       "      <th>1</th>\n",
       "      <td>338567</td>\n",
       "      <td>338686</td>\n",
       "    </tr>\n",
       "    <tr>\n",
       "      <th>2</th>\n",
       "      <td>330112</td>\n",
       "      <td>330117</td>\n",
       "    </tr>\n",
       "    <tr>\n",
       "      <th>3</th>\n",
       "      <td>330113</td>\n",
       "      <td>330116</td>\n",
       "    </tr>\n",
       "    <tr>\n",
       "      <th>4</th>\n",
       "      <td>312341</td>\n",
       "      <td>312373</td>\n",
       "    </tr>\n",
       "    <tr>\n",
       "      <th>...</th>\n",
       "      <td>...</td>\n",
       "      <td>...</td>\n",
       "    </tr>\n",
       "    <tr>\n",
       "      <th>302989</th>\n",
       "      <td>312560</td>\n",
       "      <td>497919</td>\n",
       "    </tr>\n",
       "    <tr>\n",
       "      <th>302990</th>\n",
       "      <td>497920</td>\n",
       "      <td>455754</td>\n",
       "    </tr>\n",
       "    <tr>\n",
       "      <th>302991</th>\n",
       "      <td>497922</td>\n",
       "      <td>497921</td>\n",
       "    </tr>\n",
       "    <tr>\n",
       "      <th>302992</th>\n",
       "      <td>497920</td>\n",
       "      <td>497922</td>\n",
       "    </tr>\n",
       "    <tr>\n",
       "      <th>302993</th>\n",
       "      <td>363122</td>\n",
       "      <td>497923</td>\n",
       "    </tr>\n",
       "  </tbody>\n",
       "</table>\n",
       "<p>302994 rows × 2 columns</p>\n",
       "</div>"
      ],
      "text/plain": [
       "          from      to\n",
       "0       348741  348746\n",
       "1       338567  338686\n",
       "2       330112  330117\n",
       "3       330113  330116\n",
       "4       312341  312373\n",
       "...        ...     ...\n",
       "302989  312560  497919\n",
       "302990  497920  455754\n",
       "302991  497922  497921\n",
       "302992  497920  497922\n",
       "302993  363122  497923\n",
       "\n",
       "[302994 rows x 2 columns]"
      ]
     },
     "execution_count": 4,
     "metadata": {},
     "output_type": "execute_result"
    }
   ],
   "source": [
    "df = pd.DataFrame(data = links)\n",
    "df"
   ]
  },
  {
   "cell_type": "code",
   "execution_count": 5,
   "metadata": {},
   "outputs": [
    {
     "data": {
      "text/plain": [
       "1"
      ]
     },
     "execution_count": 5,
     "metadata": {},
     "output_type": "execute_result"
    }
   ],
   "source": [
    "len(df[(df['from'] == 336546) | (df['to'] == 336546)])"
   ]
  },
  {
   "cell_type": "code",
   "execution_count": 6,
   "metadata": {},
   "outputs": [],
   "source": [
    "nodeNodeSet = set()\n",
    "with arcpy.da.UpdateCursor(\"North_American_Rail_Network_Nodes\", [\"FRANODEID\", \"TERM\"]) as cursor:\n",
    "    for node, term in cursor:\n",
    "        cursor.updateRow((node, len(df[(df['from'] == node) | (df['to'] == node )]) == 1))\n",
    "\n",
    "# with arcpy.da.SearchCursor(\"North_American_Rail_Network_Nodes\", [\"FRANODEID\"]) as cursor:\n",
    "#     print(len([n for n in cursor]))"
   ]
  },
  {
   "cell_type": "code",
   "execution_count": null,
   "metadata": {},
   "outputs": [],
   "source": []
  }
 ],
 "metadata": {
  "kernelspec": {
   "display_name": "ArcGISPro",
   "language": "Python",
   "name": "python3"
  },
  "language_info": {
   "file_extension": ".py",
   "name": "python",
   "version": "3"
  }
 },
 "nbformat": 4,
 "nbformat_minor": 2
}
