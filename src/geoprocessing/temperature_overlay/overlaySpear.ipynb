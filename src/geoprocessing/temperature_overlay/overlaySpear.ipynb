{
 "cells": [
  {
   "cell_type": "code",
   "execution_count": 2,
   "metadata": {},
   "outputs": [],
   "source": [
    "from pathlib import Path\n",
    "import json\n",
    "import geopandas as gpd\n",
    "import pandas as pd\n",
    "import netCDF4"
   ]
  },
  {
   "cell_type": "code",
   "execution_count": 3,
   "metadata": {},
   "outputs": [],
   "source": [
    "basePath = Path.cwd().parent.parent.parent / 'inputs'\n",
    "shpFilePath = basePath / 'global_osm_rails'\n",
    "osmRailDf = gpd.read_file(shpFilePath / 'global_osm_rails.shp')"
   ]
  },
  {
   "cell_type": "code",
   "execution_count": 4,
   "metadata": {},
   "outputs": [],
   "source": [
    "import xarray as xr\n",
    "\n",
    "diffNcPath = basePath / 'spear_tas_diff.nc'\n",
    "\n",
    "\n",
    "tasDiffNc = netCDF4.Dataset(diffNcPath)\n",
    "tasDiffdf = xr.open_dataset(diffNcPath).to_dataframe()\n",
    "# tasDiffdf.index.names =['geo_center_x_zone', 'geo_center_y_zone']\n",
    "tasDiffdf = tasDiffdf.reset_index()\n",
    "tasDiffdf = gpd.GeoDataFrame(\n",
    "  tasDiffdf, geometry=gpd.points_from_xy(tasDiffdf.lon, tasDiffdf.lat), crs=\"EPSG:4326\" \n",
    ")"
   ]
  },
  {
   "cell_type": "code",
   "execution_count": null,
   "metadata": {},
   "outputs": [],
   "source": [
    "osmRailDf['geo_center'] = osmRailDf.centroid"
   ]
  },
  {
   "cell_type": "code",
   "execution_count": null,
   "metadata": {},
   "outputs": [],
   "source": [
    "gbRail = osmRailDf.cx[-1.57216793459:1.68153079591,48.959999905:56]\n",
    "tasDiffdf"
   ]
  },
  {
   "cell_type": "code",
   "execution_count": null,
   "metadata": {},
   "outputs": [],
   "source": [
    "joined = gpd.sjoin_nearest(osmRailDf, tasDiffdf)"
   ]
  },
  {
   "cell_type": "code",
   "execution_count": null,
   "metadata": {},
   "outputs": [],
   "source": [
    "joined.explore(\n",
    "    legend= True,\n",
    "    column= 'tas',\n",
    "    prefer_canvas=True\n",
    ").save('test.html')"
   ]
  }
 ],
 "metadata": {
  "kernelspec": {
   "display_name": "network_flow_assignment",
   "language": "python",
   "name": "python3"
  },
  "language_info": {
   "codemirror_mode": {
    "name": "ipython",
    "version": 3
   },
   "file_extension": ".py",
   "mimetype": "text/x-python",
   "name": "python",
   "nbconvert_exporter": "python",
   "pygments_lexer": "ipython3",
   "version": "3.12.6"
  }
 },
 "nbformat": 4,
 "nbformat_minor": 2
}
